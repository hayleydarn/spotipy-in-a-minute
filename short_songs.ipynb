{
 "cells": [
  {
   "cell_type": "code",
   "execution_count": 5,
   "metadata": {},
   "outputs": [],
   "source": [
    "import pandas as pd\n",
    "import spotipy\n",
    "from spotipy.oauth2 import SpotifyClientCredentials\n",
    "import spotipy.util as util\n",
    "from client import *"
   ]
  },
  {
   "cell_type": "markdown",
   "metadata": {},
   "source": [
    "## Set-up credential flow"
   ]
  },
  {
   "cell_type": "code",
   "execution_count": 6,
   "metadata": {},
   "outputs": [],
   "source": [
    "def get_token(scope=None): \n",
    "    redirect_uri = \"http://localhost:4000\"\n",
    "    token = util.prompt_for_user_token(user, scope, cid, secret, redirect_uri)\n",
    "    return token"
   ]
  },
  {
   "cell_type": "code",
   "execution_count": 7,
   "metadata": {},
   "outputs": [],
   "source": [
    "user=userID\n",
    "cid=clientID\n",
    "secret=secret"
   ]
  },
  {
   "cell_type": "code",
   "execution_count": 8,
   "metadata": {},
   "outputs": [],
   "source": [
    "token = get_token(scope='playlist-read-private') # set the scope\n",
    "sp = spotipy.Spotify(auth=token)"
   ]
  },
  {
   "cell_type": "markdown",
   "metadata": {},
   "source": [
    "## Get list of all playlists I follow"
   ]
  },
  {
   "cell_type": "code",
   "execution_count": 14,
   "metadata": {},
   "outputs": [],
   "source": [
    "def get_playlist_data():    \n",
    "    playlists = sp.user_playlists(user)\n",
    "    playlist_data = []\n",
    "    \n",
    "    while playlists:\n",
    "        for i, playlist in enumerate(playlists['items']):\n",
    "            playlist_data.append(playlist)\n",
    "        if playlists['next']:\n",
    "            playlists = sp.next(playlists)\n",
    "        else:\n",
    "            playlists = None\n",
    "    \n",
    "    return playlist_data"
   ]
  },
  {
   "cell_type": "code",
   "execution_count": 15,
   "metadata": {},
   "outputs": [],
   "source": [
    "def get_playlist_uris(playlist_data):\n",
    "    playlist_uris = []\n",
    "    for playlist in playlist_data:\n",
    "        playlist_uris.append(playlist['uri'])\n",
    "    return playlist_uris"
   ]
  },
  {
   "cell_type": "code",
   "execution_count": 16,
   "metadata": {},
   "outputs": [],
   "source": [
    "def get_playlist_jsons(playlist_uris):\n",
    "    playlist_jsons = []\n",
    "    for uri in playlist_uris:\n",
    "        results = sp.playlist(uri)\n",
    "        playlist_jsons.append(results)\n",
    "    return playlist_jsons"
   ]
  },
  {
   "cell_type": "code",
   "execution_count": 17,
   "metadata": {},
   "outputs": [],
   "source": [
    "def get_user_ids(playlist_jsons):\n",
    "    userids = []\n",
    "    for json in playlist_jsons:\n",
    "        if json['owner']['id'] not in userids:\n",
    "            userids.append(json['owner']['id'])\n",
    "    return userids"
   ]
  },
  {
   "cell_type": "code",
   "execution_count": 18,
   "metadata": {},
   "outputs": [],
   "source": [
    "playlist_data = get_playlist_data()"
   ]
  },
  {
   "cell_type": "code",
   "execution_count": 19,
   "metadata": {},
   "outputs": [],
   "source": [
    "playlist_uris = get_playlist_uris(playlist_data)"
   ]
  },
  {
   "cell_type": "code",
   "execution_count": 20,
   "metadata": {},
   "outputs": [],
   "source": [
    "playlist_jsons = get_playlist_jsons(playlist_uris)"
   ]
  },
  {
   "cell_type": "code",
   "execution_count": 21,
   "metadata": {},
   "outputs": [],
   "source": [
    "userids = get_user_ids(playlist_jsons)"
   ]
  },
  {
   "cell_type": "markdown",
   "metadata": {},
   "source": [
    "## Get playlist track info:"
   ]
  },
  {
   "cell_type": "code",
   "execution_count": 23,
   "metadata": {},
   "outputs": [],
   "source": [
    "def get_track_info(playlist_jsons):\n",
    "    playlist_dfs = []\n",
    "    counter = 1\n",
    "    for json in playlist_jsons:\n",
    "        df = pd.DataFrame.from_dict(json['tracks']['items'])\n",
    "        df['PID'] = counter\n",
    "        counter += 1\n",
    "        playlist_dfs.append(df)\n",
    "    df = pd.concat(playlist_dfs, ignore_index=True)\n",
    "    return df"
   ]
  },
  {
   "cell_type": "code",
   "execution_count": 26,
   "metadata": {},
   "outputs": [],
   "source": [
    "df = get_track_info(playlist_jsons)"
   ]
  },
  {
   "cell_type": "code",
   "execution_count": 27,
   "metadata": {},
   "outputs": [],
   "source": [
    "columns = ['added_at', 'track_name', 'track_id', 'artists', 'added_by', 'explicit', 'duration',  'album_name', 'album_id', 'release_date', 'PID']"
   ]
  },
  {
   "cell_type": "code",
   "execution_count": 28,
   "metadata": {},
   "outputs": [],
   "source": [
    "# expand track data into cols\n",
    "df['track_id'] = df['track'].apply(lambda x: x['id'] if x is not None else None,convert_dtype=False)\n",
    "df['track_name'] = df['track'].apply(lambda x: x['name'] if x is not None else None,convert_dtype=False)\n",
    "df['album_id'] = df['track'].apply(lambda x: x['album']['id'] if x is not None else None,convert_dtype=False)\n",
    "df['album_name'] = df['track'].apply(lambda x: x['album']['name'] if x is not None else None,convert_dtype=False)\n",
    "df['artists'] = df['track'].apply(lambda x: x['artists'] if x is not None else None,convert_dtype=False)\n",
    "df['added_by'] = df['added_by'].apply(lambda x: x['uri'] if x is not None else None,convert_dtype=False)\n",
    "df['explicit'] = df['track'].apply(lambda x: x['explicit'] if x is not None else None,convert_dtype=False)\n",
    "df['duration'] = df['track'].apply(lambda x: (x['duration_ms'] / 1000) if x is not None else None,convert_dtype=False)\n",
    "df['release_date'] = df['track'].apply(lambda x: x['album']['release_date'] if x is not None else None,convert_dtype=False)"
   ]
  },
  {
   "cell_type": "code",
   "execution_count": 29,
   "metadata": {},
   "outputs": [],
   "source": [
    "df = df[columns]\n",
    "df = df.dropna()"
   ]
  },
  {
   "cell_type": "code",
   "execution_count": 30,
   "metadata": {},
   "outputs": [],
   "source": [
    "# maybe remove a['id']\n",
    "def artist_to_array(artists):\n",
    "    artists_new = []\n",
    "    for a in artists:\n",
    "        artists_new.append([a['name'], a['id']])\n",
    "    return artists_new"
   ]
  },
  {
   "cell_type": "code",
   "execution_count": 31,
   "metadata": {},
   "outputs": [],
   "source": [
    "df['artists'] = df['artists'].apply(artist_to_array)"
   ]
  },
  {
   "cell_type": "code",
   "execution_count": 32,
   "metadata": {},
   "outputs": [],
   "source": [
    "# set correct types of columns\n",
    "df = df.astype({'release_date': 'datetime64[ns]', 'added_at': 'datetime64[ns]', 'duration': 'float'})\n",
    "df['age'] = (df['added_at'] - df['release_date']).dt.days"
   ]
  },
  {
   "cell_type": "code",
   "execution_count": 33,
   "metadata": {},
   "outputs": [],
   "source": [
    "# rename columns to make names a bit _nicer_\n",
    "column_name_dict = {'added_at':'date_added'}\n",
    "\n",
    "def nice_column_names(x):\n",
    "    x = x.replace('_', ' ')\n",
    "    x = string.capwords(x)\n",
    "    return x\n",
    "\n",
    "df.rename(columns=column_name_dict, inplace=True)\n",
    "# df.columns = list(map(nice_column_names, df.columns))"
   ]
  },
  {
   "cell_type": "code",
   "execution_count": 34,
   "metadata": {},
   "outputs": [],
   "source": [
    "df.to_csv('./data/all-tracks-07-04.csv', index=False)"
   ]
  },
  {
   "cell_type": "markdown",
   "metadata": {},
   "source": [
    "# Make playlist from track df"
   ]
  },
  {
   "cell_type": "code",
   "execution_count": 35,
   "metadata": {},
   "outputs": [],
   "source": [
    "# run once, use playlist_id to ADD the songs to\n",
    "def initialize_playlist():\n",
    "    playlist = sp.user_playlist_create(user, 'sub2', public = False)\n",
    "    playlist_id = playlist['id']\n",
    "    \n",
    "    return playlist_id"
   ]
  },
  {
   "cell_type": "code",
   "execution_count": 36,
   "metadata": {},
   "outputs": [],
   "source": [
    "# add playlist metadata\n",
    "def update_playlist_details(playlist_id):\n",
    "    playlist_name = 'in a minute (or so)'\n",
    "    image_b64 = myimage\n",
    "    playlist_description = 'I wrote a piece of code to take every song from every playlist I follow or made to find all of the songs that are less than 2 minutes long. Spotipy. short songs, one minute songs, two minute songs, 30 second songs'\n",
    "    sp.user_playlist_change_details(user, playlist_id, name=playlist_name, description=playlist_description)\n",
    "#     sp.playlist_upload_cover_image(playlist_id=playlist_id, image_b64 = myimage)\n",
    "    \n",
    "    print(\"details updated\")"
   ]
  },
  {
   "cell_type": "code",
   "execution_count": 37,
   "metadata": {},
   "outputs": [],
   "source": [
    "def add_cover_image():\n",
    "    sp.playlist_upload_cover_image(playlist_id=sub2_id, image_b64 = myimage)\n",
    "    print(\"image added\")"
   ]
  },
  {
   "cell_type": "code",
   "execution_count": 38,
   "metadata": {},
   "outputs": [],
   "source": [
    "import base64\n",
    "with open(\"./data/images/poodle.JPG\", \"rb\") as img_file:\n",
    "    myimage = base64.b64encode(img_file.read()).decode(\"utf-8\")"
   ]
  },
  {
   "cell_type": "code",
   "execution_count": 39,
   "metadata": {},
   "outputs": [],
   "source": [
    "token = get_token(scope='playlist-modify-private ugc-image-upload') # set the scope\n",
    "# read in all user's playlist data\n",
    "sp = spotipy.Spotify(auth=token)"
   ]
  },
  {
   "cell_type": "code",
   "execution_count": 40,
   "metadata": {},
   "outputs": [
    {
     "name": "stdout",
     "output_type": "stream",
     "text": [
      "details updated\n",
      "image added\n"
     ]
    }
   ],
   "source": [
    "sub2_id = initialize_playlist()\n",
    "update_playlist_details(sub2_id)\n",
    "add_cover_image()"
   ]
  },
  {
   "cell_type": "markdown",
   "metadata": {},
   "source": [
    "## add tracks"
   ]
  },
  {
   "cell_type": "code",
   "execution_count": 41,
   "metadata": {},
   "outputs": [],
   "source": [
    "# split into batches:\n",
    "def make_batches(l, n):\n",
    "    for i in range(0, len(l), n): \n",
    "        yield l[i:i + n]"
   ]
  },
  {
   "cell_type": "code",
   "execution_count": 42,
   "metadata": {},
   "outputs": [],
   "source": [
    "# in batches, add the songs to the playlist\n",
    "def add_tracks_to_main_playlist():\n",
    "    for batch in batches:\n",
    "        sp.playlist_add_items(playlist_id=sub2_id, items=batch)\n",
    "    return print(\"confirm tracks added in spotify app\")"
   ]
  },
  {
   "cell_type": "code",
   "execution_count": 43,
   "metadata": {},
   "outputs": [],
   "source": [
    "df_sub2 = df.loc[(df['duration'] < 119)]\n",
    "df_sub2_track_id = df_sub2['track_id'].drop_duplicates()\n",
    "sub2_tracks = df_sub2_track_id.tolist()\n",
    "batches = list(make_batches(sub2_tracks, 99))"
   ]
  },
  {
   "cell_type": "code",
   "execution_count": 44,
   "metadata": {},
   "outputs": [
    {
     "name": "stdout",
     "output_type": "stream",
     "text": [
      "confirm tracks added in spotify app\n"
     ]
    }
   ],
   "source": [
    "add_tracks_to_main_playlist()"
   ]
  },
  {
   "cell_type": "code",
   "execution_count": null,
   "metadata": {},
   "outputs": [],
   "source": []
  }
 ],
 "metadata": {
  "kernelspec": {
   "display_name": "Python 3",
   "language": "python",
   "name": "python3"
  },
  "language_info": {
   "codemirror_mode": {
    "name": "ipython",
    "version": 3
   },
   "file_extension": ".py",
   "mimetype": "text/x-python",
   "name": "python",
   "nbconvert_exporter": "python",
   "pygments_lexer": "ipython3",
   "version": "3.8.5"
  }
 },
 "nbformat": 4,
 "nbformat_minor": 4
}
